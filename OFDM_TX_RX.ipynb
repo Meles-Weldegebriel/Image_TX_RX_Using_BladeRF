{
 "cells": [
  {
   "cell_type": "markdown",
   "id": "af959ba7-f638-46dd-9107-ab7c611eb6e2",
   "metadata": {},
   "source": [
    "# ODFM TX"
   ]
  },
  {
   "cell_type": "code",
   "execution_count": 43,
   "id": "9dbe79ff",
   "metadata": {},
   "outputs": [],
   "source": [
    "\n",
    "import math\n",
    "import numpy as np\n",
    "import matplotlib.pyplot as plt\n",
    "import scipy.io\n",
    "import scipy.signal as signal\n",
    "from scipy.signal import correlate, correlation_lags, fftconvolve"
   ]
  },
  {
   "cell_type": "code",
   "execution_count": 44,
   "id": "176f6525",
   "metadata": {},
   "outputs": [
    {
     "data": {
      "text/plain": [
       "<matplotlib.legend.Legend at 0x10f79c560>"
      ]
     },
     "execution_count": 44,
     "metadata": {},
     "output_type": "execute_result"
    },
    {
     "data": {
      "image/png": "[encoded data removed]",
      "text/plain": [
       "<Figure size 640x480 with 1 Axes>"
      ]
     },
     "metadata": {},
     "output_type": "display_data"
    }
   ],
   "source": [
    "# Basic OFDM and system parameters\n",
    "FFT = 64  # Number of FFT points\n",
    "OFDM_size = 80  # Total size including cyclic prefix\n",
    "data_size = 48  # Number of data subcarriers\n",
    "mess_length = 560\n",
    "CP = 16  # Cyclic prefix length\n",
    "pilotValue = 2* (1.4142 + 1.4142j)  # Pilot symbol\n",
    "\n",
    "# Default text to encode if none is given\n",
    "text_message = 'Pseudonymetry: A new spectrum sharing protocol for cooperative coexistence b/n wireless systems.'\n",
    "\n",
    "# Subcarrier allocations\n",
    "allCarriers = np.arange(-FFT//2, FFT//2) \n",
    "pilotCarriers = np.array([-21,-7,7,21])  # Pilot carriers\n",
    "dataCarriers = np.array([-26,-25,-24,-23,-22,-20,-19,-18,-17,-16,-15,-14,-13,-12,-11,-10,\n",
    "                              -9,-8,-6,-5,-4,-3,-2,-1,1,2,3,4,5,6,8,9,10,11,12,13,14,15,16,17,\n",
    "                              18,19,20,22,23,24,25,26])\n",
    "reserved = np.concatenate((dataCarriers, pilotCarriers))\n",
    "guardCarriers = np.array([sc for sc in allCarriers if sc not in reserved])\n",
    "\n",
    "# Carrier visualization\n",
    "plt.plot(pilotCarriers, np.zeros_like(pilotCarriers), 'bo', label='pilot subcarriers')\n",
    "plt.plot(dataCarriers, np.zeros_like(dataCarriers), 'ro', label='data subcarriers')\n",
    "plt.plot(guardCarriers, np.zeros_like(guardCarriers), 'ko', label='guard subcarriers')\n",
    "plt.legend()"
   ]
  },
  {
   "cell_type": "code",
   "execution_count": 45,
   "id": "9c69a21e",
   "metadata": {},
   "outputs": [],
   "source": [
    "def text2bits(message):\n",
    "    # Convert text message to list of bits (ASCII 8-bit binary per character)\n",
    "    return [int(bit) for char in message for bit in format(ord(char), '07b')]\n",
    "    "
   ]
  },
  {
   "cell_type": "code",
   "execution_count": 46,
   "id": "b3a6f1ff",
   "metadata": {},
   "outputs": [],
   "source": [
    "def lut(data, inputVec, outputVec):\n",
    "    # Lookup table for modulation mapping\n",
    "    output = np.zeros(data.shape)\n",
    "    eps = np.finfo('float').eps\n",
    "    for i in range(len(inputVec)):\n",
    "        for k in range(len(data)):\n",
    "            if abs(data[k] - inputVec[i]) < eps:\n",
    "                output[k] = outputVec[i]\n",
    "    return output\n",
    "    "
   ]
  },
  {
   "cell_type": "code",
   "execution_count": 47,
   "id": "45daeee2",
   "metadata": {},
   "outputs": [],
   "source": [
    "def binary2mary(data, M):\n",
    "    # Convert binary data to M-ary symbols\n",
    "    log2M = round(math.log2(M))\n",
    "    if len(data) % log2M != 0:\n",
    "        raise ValueError(\"Input to binary2mary must be divisible by log2(M).\")\n",
    "    binvalues = 2 ** np.arange(log2M - 1, -1, -1)\n",
    "    reshaped_data = np.reshape(data, (-1, log2M))\n",
    "    return reshaped_data.dot(binvalues)\n",
    "    "
   ]
  },
  {
   "cell_type": "code",
   "execution_count": 48,
   "id": "27a04b56",
   "metadata": {},
   "outputs": [],
   "source": [
    "def generate_QPSK_signal(message):\n",
    "    # Generate modulated data symbols using QPSK\n",
    "    A = math.sqrt(9/2)  # Amplitude scaling\n",
    "    data_sequence = text2bits(message)  # Convert message to bits\n",
    "    # data_bits = np.tile(data_sequence, 20)  # Repeat bits to fill frame\n",
    "    data_sequence = np.tile(data_sequence,10)\n",
    "    data = binary2mary(data_sequence, 4)  # Convert to 4-ary symbols (QPSK)\n",
    "\n",
    "    # QPSK mapping\n",
    "    inputVec = [0, 1, 2, 3]\n",
    "    outputVecI = [A, -A, A, -A]\n",
    "    outputVecQ = [A, A, -A, -A]\n",
    "\n",
    "    # Map symbols to complex IQ samples\n",
    "    xI = lut(data, inputVec, outputVecI).reshape((1, len(data)))\n",
    "    xQ = lut(data, inputVec, outputVecQ).reshape((1, len(data)))\n",
    "    qpsk_IQ = (xI.flatten() + 1j * xQ.flatten()).astype(np.complex64)\n",
    "    return qpsk_IQ\n"
   ]
  },
  {
   "cell_type": "code",
   "execution_count": 49,
   "id": "728a39aa",
   "metadata": {},
   "outputs": [],
   "source": [
    "def generate_ofdm_signal(data):\n",
    "    # Generate OFDM symbols from data\n",
    "    result = []\n",
    "    for i in range(len(data) // data_size):\n",
    "        payload = data[i * data_size: (i + 1) * data_size]\n",
    "        symbol = np.zeros(FFT, dtype=complex)\n",
    "\n",
    "        # Insert pilot symbols\n",
    "        symbol[pilotCarriers] = pilotValue\n",
    "       \n",
    "        # Insert data symbols\n",
    "        symbol[dataCarriers] = payload\n",
    "\n",
    "        # IFFT and add cyclic prefix\n",
    "        ofdm_time = np.fft.ifft(symbol,n=FFT) #np.fft.ifft(np.fft.ifftshift(symbol), n=self.FFT)\n",
    "        cp = ofdm_time[-CP:]\n",
    "        result.extend(np.hstack([cp, ofdm_time]))\n",
    "\n",
    "    return np.array(result)\n"
   ]
  },
  {
   "cell_type": "code",
   "execution_count": null,
   "id": "29f10ed7-910c-4cd4-8b98-ffa79223f6b8",
   "metadata": {},
   "outputs": [],
   "source": []
  },
  {
   "cell_type": "code",
   "execution_count": 50,
   "id": "e723246d",
   "metadata": {},
   "outputs": [
    {
     "name": "stdout",
     "output_type": "stream",
     "text": [
      "640\n"
     ]
    }
   ],
   "source": [
    "def generate_htstf():\n",
    "    mat = scipy.io.loadmat('HTSTF.mat')\n",
    "    htstf = mat['stf'].flatten()  # complex array\n",
    "    return np.tile(htstf, 8)      # repeat 2 times\n",
    "print(len(generate_htstf()))"
   ]
  },
  {
   "cell_type": "code",
   "execution_count": 51,
   "id": "2e109b79",
   "metadata": {},
   "outputs": [],
   "source": [
    "def generate_ofdm_packet():\n",
    "    # Combine all steps to create a complete ofdm packet\n",
    "    qpsk = generate_QPSK_signal(text_message)\n",
    "    # ofdm = generate_ofdm_signal_window(qpsk)\n",
    "    ofdm = generate_ofdm_signal(qpsk)\n",
    "    # preamble    = np.tile([1, 1, 0, 0], 16)\n",
    "    preamble = generate_htstf()\n",
    "    return np.concatenate([0.3*preamble, ofdm])\n",
    "    "
   ]
  },
  {
   "cell_type": "code",
   "execution_count": 52,
   "id": "a1d04453-a05e-45ae-ae63-93a258a05ce6",
   "metadata": {},
   "outputs": [
    {
     "name": "stdout",
     "output_type": "stream",
     "text": [
      "Length of tx_signal: 6240\n",
      "Length of preamble: 640\n"
     ]
    },
    {
     "data": {
      "image/png": "[encoded data removed]",
      "text/plain": [
       "<Figure size 640x480 with 1 Axes>"
      ]
     },
     "metadata": {},
     "output_type": "display_data"
    }
   ],
   "source": [
    "tx_signal = generate_ofdm_packet()\n",
    "print('Length of tx_signal:',len(tx_signal))\n",
    "print('Length of preamble:',len(generate_htstf()))\n",
    "plt.plot(abs(tx_signal))\n",
    "plt.show()"
   ]
  },
  {
   "cell_type": "code",
   "execution_count": 53,
   "id": "19b1f7e0-2500-405e-a5f8-80af428b91d5",
   "metadata": {},
   "outputs": [],
   "source": [
    "# The SDR transmits IQ samples as IQIQIQ... patern \n",
    "# Convert complex to binary\n",
    "def write_complex_binary(data, filename):\n",
    "    \n",
    "    '''\n",
    "    Open filename and write array to it as binary\n",
    "    Format is interleaved float IQ e.g. each I,Q should be 32-bit float \n",
    "    INPUT\n",
    "    ----\n",
    "    data:     data to be wrote into the file. format: (length, )\n",
    "    filename: file name\n",
    "    '''\n",
    "    \n",
    "    re = np.real(data)\n",
    "    im = np.imag(data)\n",
    "    binary = np.zeros(len(data)*2, dtype=np.float32)\n",
    "    binary[::2] = re\n",
    "    binary[1::2] = im\n",
    "    binary.tofile(filename) \n",
    "write_complex_binary(tx_signal, 'TX_image_data.iq')"
   ]
  },
  {
   "cell_type": "code",
   "execution_count": null,
   "id": "9f8398be-8ce2-4ff0-b432-07df69d90054",
   "metadata": {},
   "outputs": [],
   "source": []
  },
  {
   "cell_type": "code",
   "execution_count": null,
   "id": "64c1e170-83aa-4ff0-974b-bf5686e1dc62",
   "metadata": {},
   "outputs": [],
   "source": []
  },
  {
   "cell_type": "code",
   "execution_count": null,
   "id": "ae649d94-d654-4b0b-a57a-5452f01a6b4e",
   "metadata": {},
   "outputs": [],
   "source": []
  },
  {
   "cell_type": "code",
   "execution_count": null,
   "id": "9af8f437-bc60-43a1-a8af-bae835f32ce4",
   "metadata": {},
   "outputs": [],
   "source": []
  },
  {
   "cell_type": "markdown",
   "id": "4e886f5a-891b-4390-a6fb-cabaca789665",
   "metadata": {},
   "source": [
    "# OFDM Receiver Below"
   ]
  },
  {
   "cell_type": "code",
   "execution_count": 54,
   "id": "f263cffe-2900-4186-8709-a60bf86b8296",
   "metadata": {},
   "outputs": [],
   "source": [
    "# Load complex signal\n",
    "# rx_signal = generate_ofdm_packet()\n",
    "# rng = np.random.default_rng(seed=42)\n",
    "# sigma = 0.1\n",
    "# noise = sigma * rng.standard_normal(rx_signal.shape) \n",
    "# rx_signal = rx_signal + noise"
   ]
  },
  {
   "cell_type": "code",
   "execution_count": 55,
   "id": "53fef409-5d93-43b5-9163-dc0763b1df7c",
   "metadata": {},
   "outputs": [],
   "source": [
    "def cross_correlation_max(rx0, preamble, normalized=False, preamble_scale=0.00005):\n",
    "    \"\"\"\n",
    "    Cross-correlate rx0 with a known preamble and plot:\n",
    "      - RX real/imag with the detected preamble overlaid at the detected start index\n",
    "      - Correlation magnitude (or NCC) vs. sample index (no negative lags)\n",
    "    \"\"\"\n",
    "\n",
    "    rx0 = np.asarray(rx0, dtype=np.complex64)\n",
    "    preamble = np.asarray(preamble, dtype=np.complex64)\n",
    "\n",
    "    # --- Complex matched filter correlation ---\n",
    "    kernel = np.conj(preamble[::-1])\n",
    "    xcorr_out = signal.fftconvolve(rx0, kernel, mode='valid')  # valid mode → only non-negative shifts\n",
    "\n",
    "    if normalized:\n",
    "        tpl_energy = np.sqrt(np.sum(np.abs(preamble)**2)) + 1e-12\n",
    "        win_energy = np.sqrt(\n",
    "            signal.convolve(np.abs(rx0)**2,\n",
    "                            np.ones(len(preamble), dtype=np.float32),\n",
    "                            mode='valid')\n",
    "        ) + 1e-12\n",
    "        metric = np.abs(xcorr_out) / (tpl_energy * win_energy)\n",
    "        ylabel = \"NCC value\"\n",
    "        title_suffix = \" (Normalized)\"\n",
    "    else:\n",
    "        metric = np.abs(xcorr_out)\n",
    "        ylabel = \"|Cross-correlation|\"\n",
    "        title_suffix = \"\"\n",
    "\n",
    "    # Pick peak\n",
    "\n",
    "    preamble_start = int(np.argmax(metric))\n",
    "\n",
    "    print(f\"Detected preamble at sample index {preamble_start}\")\n",
    "\n",
    "    # --- Plot ---\n",
    "    fig, axes = plt.subplots(2, 1, figsize=(11, 6))\n",
    "\n",
    "    # Top: RX signal with overlaid preamble\n",
    "    axes[0].plot(np.real(rx0), label='Real RX Signal')\n",
    "    axes[0].plot(np.imag(rx0), label='Imag RX Signal')\n",
    "    overlay_x = np.arange(preamble_start, preamble_start + len(preamble))\n",
    "    overlay_p = preamble * preamble_scale\n",
    "    axes[0].plot(overlay_x, np.real(overlay_p), label='Preamble (real, scaled)')\n",
    "    axes[0].plot(overlay_x, np.imag(overlay_p), label='Preamble (imag, scaled)', alpha=0.7)\n",
    "    axes[0].set_title(\"Received Signal with Detected Preamble Overlay\")\n",
    "    axes[0].legend(loc='upper right')\n",
    "\n",
    "    # Bottom: correlation metric vs. index\n",
    "    axes[1].plot(metric, label=ylabel)\n",
    "    axes[1].axvline(preamble_start, linestyle='--', color='r', label=f'Detected start = {preamble_start}')\n",
    "    axes[1].set_xlabel(\"Sample index\")\n",
    "    axes[1].set_ylabel(ylabel)\n",
    "    axes[1].legend(loc='upper right')\n",
    "    axes[1].set_title(f\"Cross-Correlation{title_suffix}\")\n",
    "\n",
    "    plt.tight_layout()\n",
    "    plt.show()\n",
    "\n",
    "    return preamble_start\n"
   ]
  },
  {
   "cell_type": "code",
   "execution_count": 56,
   "id": "8102b53b-6086-49aa-8f43-b1f402c1a2ba",
   "metadata": {},
   "outputs": [],
   "source": [
    "def binvector2str(bits):\n",
    "        \"\"\"\n",
    "        Convert a flat iterable of 0/1 to a 7-bit ASCII string (MSB first).\n",
    "        Pure-Python, no NumPy required.\n",
    "        \"\"\"\n",
    "        bits = list(bits)\n",
    "        if len(bits) % 7 != 0:\n",
    "            raise ValueError(\"Length of bit stream must be a multiple of 7.\")\n",
    "    \n",
    "        out_chars = []\n",
    "        for i in range(0, len(bits), 7):\n",
    "            byte = 0\n",
    "            # MSB first: positions 0..6 map to weights 64..1\n",
    "            # converts the binary chunk into its integer value\n",
    "            for b in bits[i:i+7]:\n",
    "                byte = (byte << 1) | (1 if b else 0)\n",
    "            out_chars.append(chr(byte))\n",
    "        # Joins the list of characters into a single string\n",
    "        rx_text = ''.join(out_chars) \n",
    "        print('Received Message:', rx_text)\n",
    "        return rx_text"
   ]
  },
  {
   "cell_type": "code",
   "execution_count": 57,
   "id": "61faa2ee-e15f-4dc2-90fe-419df3de0822",
   "metadata": {},
   "outputs": [],
   "source": [
    "def mary2binary(data, M):\n",
    "        length = len(data) # number of values in data\n",
    "        log2M = round(np.log2(M)) # integer number of bits per data value\n",
    "        format_string = '0' + str(log2M) + 'b'\n",
    "        binarydata = np.zeros((1,length*log2M))\n",
    "        count = 0\n",
    "        for each in data:\n",
    "            binval = format(int(each), format_string)\n",
    "            for i in range(log2M):\n",
    "                binarydata[0][count+i] = int(binval[i])\n",
    "            count = count + log2M\n",
    "        return binarydata"
   ]
  },
  {
   "cell_type": "code",
   "execution_count": 58,
   "id": "5435b132-fdc0-44f5-a373-8f51232e16f0",
   "metadata": {},
   "outputs": [],
   "source": [
    "def findClosestComplex(r_hat, outputVec):\n",
    "        # outputVec is a 4-length vector for QPSK, would be M for M-QAM or M-PSK.\n",
    "        # This checks, one symbol sample at a time,  which complex symbol value\n",
    "        # is closest in the complex plane.\n",
    "        data_out = [np.argmin(np.abs(r-outputVec)) for r in r_hat]\n",
    "        return data_out"
   ]
  },
  {
   "cell_type": "code",
   "execution_count": 59,
   "id": "e89f0992-7476-497c-8645-55b225760006",
   "metadata": {},
   "outputs": [],
   "source": [
    "def constellation_plot(signal):\n",
    "    plt.figure(figsize=(5,5))\n",
    "    ax = plt.gca() \n",
    "    ax.set_aspect(1.0)\n",
    "    plt.plot(np.real(signal), np.imag(signal),'ro')\n",
    "    plt.ylabel('Imag(Symbol Sample)', fontsize=14)\n",
    "    plt.xlabel('Real(Symbol Sample)', fontsize=14)\n",
    "    plt.title('Constellation Diagram')\n",
    "    plt.grid('on')\n",
    "    plt.tight_layout()\n",
    "    plt.savefig(\"Constellation_Example.jpg\", dpi=300, bbox_inches='tight')\n"
   ]
  },
  {
   "cell_type": "code",
   "execution_count": 60,
   "id": "2ab1e768-76d0-4a79-9152-ea45c91e52ac",
   "metadata": {},
   "outputs": [],
   "source": [
    "def Channel_Estimation(signal):\n",
    "    \"\"\"\n",
    "    Estimate the per-subcarrier channel H[k] for ONE OFDM symbol using pilots only.\n",
    "    Strategy:\n",
    "    \"\"\"\n",
    "    eps = 1e-12  # small number to prevent divide-by-zero / log(0)\n",
    "    Yp = signal[pilotCarriers]\n",
    "\n",
    "    # Xp: known transmitted pilot symbols.\n",
    "    Xp = pilotValue if np.ndim(pilotValue) else np.full(len(pilotCarriers), pilotValue, dtype=complex)\n",
    "\n",
    "    # Hp: channel estimate at pilot locations (divide received by known transmitted)\n",
    "    Hp = Yp / (Xp + eps)\n",
    "\n",
    "    # Split Hp into magnitude and phase for interpolation -\n",
    "    mag_p = np.maximum(np.abs(Hp), eps)  # clamp to eps to avoid log(0)\n",
    "    log_mag_p = np.log(mag_p)\n",
    "\n",
    "    # Phase unwrap across pilot indices to avoid discontinuities at +/-pi boundaries.\n",
    "    phase_p = np.unwrap(np.angle(Hp))\n",
    "\n",
    "    # Interpolate (linear) from pilot bins to ALL ACTIVE subcarriers \n",
    "    log_mag_all = np.interp(allCarriers, pilotCarriers, log_mag_p)\n",
    "    phase_all   = np.interp(allCarriers, pilotCarriers, phase_p)\n",
    "\n",
    "    # Recombine to complex H on active carriers\n",
    "    H_estimate = np.exp(log_mag_all) * np.exp(1j * phase_all)\n",
    "\n",
    "    # Pack into a full FFT-sized vector, leaving guards/DC as zeros \n",
    "    H_full = np.zeros_like(signal, dtype=complex)\n",
    "    H_full[allCarriers] = H_estimate\n",
    "\n",
    "    return H_full\n"
   ]
  },
  {
   "cell_type": "code",
   "execution_count": 61,
   "id": "f4f4699a-d3d4-454c-80fe-0097d6815730",
   "metadata": {},
   "outputs": [],
   "source": [
    "def Equalization(OFDM_demod, H_est):\n",
    "    return OFDM_demod / H_est"
   ]
  },
  {
   "cell_type": "code",
   "execution_count": 62,
   "id": "0ea92c3e-fb54-4080-846e-b853b5d82654",
   "metadata": {},
   "outputs": [],
   "source": [
    "def matched_filter_demodulation(rx_signal):\n",
    "    outputVec = np.array([1+1j, -1+1j, 1-1j, -1-1j])\n",
    "    preamble = generate_ltf()\n",
    "    print('Length of Preamble', len(preamble))\n",
    "    preamble_start = cross_correlation_max(rx_signal,preamble)\n",
    "\n",
    "    # Decide start of data symbols\n",
    "    data_start = preamble_start + len(preamble)\n",
    "    data_signal = rx_signal[data_start: data_start + mess_length]\n",
    "    \n",
    "    for i in range(len(data_signal)//(OFDM_size)):\n",
    "        data_cp = data_signal[i*(OFDM_size):(i+1)*(OFDM_size)]\n",
    "        data_without_cp = data_cp[CP:]\n",
    "        \n",
    "        # Generate frequency domain signal\n",
    "        OFDM_freq = np.fft.fft(data_without_cp,n=FFT)\n",
    "        \n",
    "        # H_est = Channel_Estimation_With_LFT(OFDM_freq, H0 = H0) # estimate the channel\n",
    "        H_est = Channel_Estimation(OFDM_freq) # estimate the channel\n",
    "        \n",
    "        OFDM_est = Equalization(OFDM_freq, H_est) # sub-carrier equalization\n",
    "        \n",
    "        OFDM_data = OFDM_est[dataCarriers] # extract the data signal\n",
    "        if i == 0:\n",
    "            OFDM_swap =  OFDM_data\n",
    "        else:\n",
    "            OFDM_signal = np.concatenate((OFDM_swap,  OFDM_data))\n",
    "            OFDM_swap = OFDM_signal\n",
    "            \n",
    "    constellation_plot(OFDM_signal)\n",
    "    mary_out  = findClosestComplex(OFDM_signal, outputVec)\n",
    "    data_bits  = mary2binary(mary_out, 4)[0]\n",
    "    return data_bits"
   ]
  },
  {
   "cell_type": "code",
   "execution_count": 63,
   "id": "2d1a9b81-8c9e-4d1a-93bf-310476cc1246",
   "metadata": {},
   "outputs": [
    {
     "ename": "FileNotFoundError",
     "evalue": "[Errno 2] No such file or directory: 'rx_image.dat'",
     "output_type": "error",
     "traceback": [
      "\u001b[0;31m---------------------------------------------------------------------------\u001b[0m",
      "\u001b[0;31mFileNotFoundError\u001b[0m                         Traceback (most recent call last)",
      "Cell \u001b[0;32mIn[63], line 2\u001b[0m\n\u001b[1;32m      1\u001b[0m \u001b[38;5;66;03m# rx_signal = generate_ofdm_packet()\u001b[39;00m\n\u001b[0;32m----> 2\u001b[0m rx_signal \u001b[38;5;241m=\u001b[39m \u001b[43mnp\u001b[49m\u001b[38;5;241;43m.\u001b[39;49m\u001b[43mfromfile\u001b[49m\u001b[43m(\u001b[49m\u001b[38;5;124;43m\"\u001b[39;49m\u001b[38;5;124;43mrx_image.dat\u001b[39;49m\u001b[38;5;124;43m\"\u001b[39;49m\u001b[43m,\u001b[49m\u001b[43m \u001b[49m\u001b[43mdtype\u001b[49m\u001b[38;5;241;43m=\u001b[39;49m\u001b[43mnp\u001b[49m\u001b[38;5;241;43m.\u001b[39;49m\u001b[43mcomplex64\u001b[49m\u001b[43m)\u001b[49m\n\u001b[1;32m      3\u001b[0m rx_bits \u001b[38;5;241m=\u001b[39m matched_filter_demodulation(rx_signal)\n\u001b[1;32m      4\u001b[0m rx_message \u001b[38;5;241m=\u001b[39m binvector2str(rx_bits)\n",
      "\u001b[0;31mFileNotFoundError\u001b[0m: [Errno 2] No such file or directory: 'rx_image.dat'"
     ]
    }
   ],
   "source": [
    "# rx_signal = generate_ofdm_packet()\n",
    "rx_signal = np.fromfile(\"rx_image.dat\", dtype=np.complex64)\n",
    "rx_bits = matched_filter_demodulation(rx_signal)\n",
    "rx_message = binvector2str(rx_bits)"
   ]
  }
 ],
 "metadata": {
  "kernelspec": {
   "display_name": "Python 3 (ipykernel)",
   "language": "python",
   "name": "python3"
  },
  "language_info": {
   "codemirror_mode": {
    "name": "ipython",
    "version": 3
   },
   "file_extension": ".py",
   "mimetype": "text/x-python",
   "name": "python",
   "nbconvert_exporter": "python",
   "pygments_lexer": "ipython3",
   "version": "3.12.7"
  }
 },
 "nbformat": 4,
 "nbformat_minor": 5
}
